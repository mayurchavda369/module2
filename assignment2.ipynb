{
 "cells": [
  {
   "cell_type": "code",
   "execution_count": null,
   "id": "160570a3",
   "metadata": {},
   "outputs": [],
   "source": [
    "#Write a Python program to check if a number is positive, negative or zero\n",
    "u=int(input())\n",
    "if u>0:\n",
    "    print(\"positive\")\n",
    "elif u==0:\n",
    "    print(\"zero\")\n",
    "else:\n",
    "    print(\"negative\")"
   ]
  },
  {
   "cell_type": "code",
   "execution_count": null,
   "id": "76bcd574",
   "metadata": {},
   "outputs": [],
   "source": [
    "#Write a Python program to get the Factorial number of given number\n",
    "n=int(input())\n",
    "fac=1\n",
    "for i in range(1,n+1):\n",
    "    fac=fac*i\n",
    "print(fac)\n"
   ]
  },
  {
   "cell_type": "code",
   "execution_count": null,
   "id": "8383157f",
   "metadata": {},
   "outputs": [],
   "source": [
    "#Write a Python program to get the Fibonacci series of given range.\n",
    "n=int(input())\n",
    "a=0\n",
    "b=1\n",
    "for i in range(0,n):\n",
    "    if i <=1:\n",
    "        c=i\n",
    "    else:\n",
    "        c=a+b\n",
    "        a=b\n",
    "        b=c\n",
    "    print(c)\n"
   ]
  },
  {
   "cell_type": "code",
   "execution_count": null,
   "id": "87b0bb9b",
   "metadata": {},
   "outputs": [],
   "source": [
    "# How memory is managed in Python?\n",
    "#Memory in Python is managed by Python private heap space. \n",
    "#All Python objects and data structures are located in a private heap. \n",
    "#This private heap is taken care of by Python Interpreter itself, and a programmer doesn't have access to this private heap."
   ]
  },
  {
   "cell_type": "code",
   "execution_count": null,
   "id": "990dbb80",
   "metadata": {},
   "outputs": [],
   "source": [
    "#What is the purpose continue statement in python?\n",
    "#The continue keyword is used to end the current iteration in a for loop (or a while loop), \n",
    "#and continues to the next iteration."
   ]
  },
  {
   "cell_type": "code",
   "execution_count": null,
   "id": "cf4ec51a",
   "metadata": {},
   "outputs": [],
   "source": [
    "#Write python program that swap two number with temp variable and without temp variable.\n",
    "a=input()\n",
    "b=input()\n",
    "temp=a\n",
    "a=b\n",
    "print(b,temp)"
   ]
  },
  {
   "cell_type": "code",
   "execution_count": null,
   "id": "0dbb34c7",
   "metadata": {},
   "outputs": [],
   "source": [
    "#Write a Python program to find whether a given number is even or odd, print out an appropriate message to the user.\n",
    "u=int(input())\n",
    "if u%2==0:\n",
    "    print('even')\n",
    "else:\n",
    "    print('odd')\n",
    "    "
   ]
  },
  {
   "cell_type": "code",
   "execution_count": null,
   "id": "6090f268",
   "metadata": {},
   "outputs": [],
   "source": [
    "#Write a Python program to test whether a passed letter is a vowel or not.\n",
    "V1=str(input())\n",
    "if V1 in (\"a,i,o,u,e\") and ('A,I,O,U,E'):\n",
    "    print('vowel')\n",
    "else:\n",
    "    print('not vowel')\n",
    "    "
   ]
  },
  {
   "cell_type": "code",
   "execution_count": null,
   "id": "9bead771",
   "metadata": {},
   "outputs": [],
   "source": [
    "#Write a Python program to sum of three given integers. However, if two values are equal sum will be zero.\n",
    "v1=int(input())\n",
    "v2=int(input())\n",
    "v3=int(input())\n",
    "\n",
    "if v1==v2 or v2==v3 or v1==v3 :\n",
    "    print('zero')\n",
    "else:\n",
    "    print('not zero')\n"
   ]
  },
  {
   "cell_type": "code",
   "execution_count": null,
   "id": "a16dbe13",
   "metadata": {},
   "outputs": [],
   "source": [
    "# Write a Python program that will return true if the two given integer values are equal or their sum or difference is 5.\n",
    "v1=int(input())\n",
    "v2=int(input())\n",
    "if v1==v2==0 or v1+v2==5:\n",
    "    print('true')\n",
    "else:\n",
    "    print('false')\n",
    "    "
   ]
  },
  {
   "cell_type": "code",
   "execution_count": null,
   "id": "5911fe1d",
   "metadata": {},
   "outputs": [],
   "source": [
    "# write a python program to sum of the first n positive integers.\n",
    "v1=int(input())\n",
    "sum=(v1*(v1+1))/2\n",
    "print(\"sum of first\",v1,\"positive integer\",sum)\n"
   ]
  },
  {
   "cell_type": "code",
   "execution_count": null,
   "id": "641457b7",
   "metadata": {},
   "outputs": [],
   "source": [
    "#Write a Python program to calculate the length of a string.\n",
    "str='string'\n",
    "len(str)"
   ]
  },
  {
   "cell_type": "code",
   "execution_count": null,
   "id": "eb60d5c9",
   "metadata": {},
   "outputs": [],
   "source": [
    "#Write a Python program to count the number of characters (character frequency) in a string?\n",
    "string = \"string\"\n",
    "\n",
    "for i in string:\n",
    "    frequency = string.count(i)\n",
    "    print(str(i) + \": \" + str(frequency), end=\", \")"
   ]
  },
  {
   "cell_type": "code",
   "execution_count": null,
   "id": "5ac3fd20",
   "metadata": {},
   "outputs": [],
   "source": [
    "# What are negative indexes and why are they used?\n",
    "#The negative indexing is the act of indexing from the end of the list with indexing starting at -1.\n",
    "#i.e. -1 gives the last element of list.\n",
    "#The use of negative indexing can be done to use or display data from the end of the list and can also be used to reverse a number or string without using other functions.\n"
   ]
  },
  {
   "cell_type": "code",
   "execution_count": null,
   "id": "923b8ed4",
   "metadata": {},
   "outputs": [],
   "source": [
    "#Write a Python program to count occurrences of a substring in a string.\n",
    "str1='hello my name is mayur'\n",
    "str1.count('m')\n"
   ]
  },
  {
   "cell_type": "code",
   "execution_count": null,
   "id": "cc2d1cf2",
   "metadata": {},
   "outputs": [],
   "source": [
    "#Write a Python program to count the occurrences of each word in a given sentence.\n",
    "string = \"my name is mayur.\"\n",
    "\n",
    "for i in string:\n",
    "    frequency = string.count(i)\n",
    "    print(str(i) + \": \" + str(frequency), end=\", \")"
   ]
  },
  {
   "cell_type": "code",
   "execution_count": null,
   "id": "3106bb36",
   "metadata": {},
   "outputs": [],
   "source": [
    "#Write a Python program to get a single string from two given strings, separated by a space and swap the first two characters of each string.\n",
    "a = 'hello'\n",
    "b = 'mayur'\n",
    "print(\"new string :\",a,\" \",b)\n",
    "a1 = b[:2] + a[2:]\n",
    "b1 = a[:2] + b[2:]\n",
    "print(\"After Swap :\",a1,\" \",b1)\n",
    "\n"
   ]
  },
  {
   "cell_type": "code",
   "execution_count": 3,
   "id": "e5de8fd8",
   "metadata": {},
   "outputs": [
    {
     "name": "stdout",
     "output_type": "stream",
     "text": [
      "running\n",
      "runnly\n"
     ]
    }
   ],
   "source": [
    "#Write a Python program to add 'ing' at the end of a given string (length should be at least 3). If the given string already ends with 'ing' then add'ly' instead if the string length of the given string is less than 3, leave it unchanged\n",
    "\n",
    "string1=input()\n",
    "\n",
    "if len(string1)>=3:\n",
    "    if string1.endswith('ing'):\n",
    "      res= string1[:-3] + 'ly'\n",
    "      print(res)      \n",
    "    else:\n",
    "       res=string1 + 'ing'\n",
    "       print(res)\n",
    "else:\n",
    "   print(string1)"
   ]
  },
  {
   "cell_type": "code",
   "execution_count": null,
   "id": "a48809e3",
   "metadata": {},
   "outputs": [],
   "source": [
    "#Write a Python program to find the first appearance of the substring 'not' and 'poor' from a given string, \n",
    "#if 'not' follows the 'poor', replace the \n",
    "#whole 'not'...'poor' substring with 'good'. Return the resulting string\n",
    "\n",
    "str1 = \"The city is not too poor, but it was poor in past.\"\n",
    "\n",
    "a = str1.find('not')\n",
    "b = str1.find('poor')\n",
    "\n",
    "if b < a or a == -1:\n",
    "    output = str1\n",
    "else:\n",
    "    \n",
    "    output = str1[ :a] + 'good' + str1[b+4:]\n",
    "\n",
    "print(output)\n"
   ]
  },
  {
   "cell_type": "code",
   "execution_count": null,
   "id": "94ce3717",
   "metadata": {},
   "outputs": [],
   "source": [
    "#Write a Python function that takes a list of words and returns the length of the longest one.\n",
    "list = [\"dhoni\",\"yuvi\",\"dravid\",\"harbhajan\",\"sachin\"]\n",
    "longest = 0\n",
    "for i in list:\n",
    "    if len(i) > longest:\n",
    "        longest = len(i)\n",
    "\n",
    "print(longest)"
   ]
  },
  {
   "cell_type": "code",
   "execution_count": null,
   "id": "5c576ca7",
   "metadata": {},
   "outputs": [],
   "source": [
    "#Write a Python function to reverses a string if its length is a multiple of 4.\n",
    "s = \"mayur chavda\"\n",
    "\n",
    "if len(s) % 4 == 0:\n",
    "     s=s[::-1]\n",
    "\n",
    "print(s)"
   ]
  },
  {
   "cell_type": "code",
   "execution_count": 5,
   "id": "7a19237b",
   "metadata": {},
   "outputs": [
    {
     "name": "stdout",
     "output_type": "stream",
     "text": [
      "Enter a string: mayurchavda\n",
      "Result:  mada\n"
     ]
    }
   ],
   "source": [
    "#Write a Python program to get a string made of the first 2 and the last \n",
    "#2 chars from a given a string. If the string length is less than 2, return \n",
    "#instead of the empty string.\n",
    "\n",
    "str = input(\"Enter a string: \")\n",
    "length = len(str)\n",
    "\n",
    "if length < 2:\n",
    "    print(\"empty string\")\n",
    "else:\n",
    "    res= str[0:2] + str[-2:length]\n",
    "    print(\"Result: \", res)"
   ]
  },
  {
   "cell_type": "code",
   "execution_count": null,
   "id": "87626ba1",
   "metadata": {},
   "outputs": [],
   "source": [
    "#Write a Python function to insert a string in the middle of a string.\n",
    "str = \"mahendra dhoni\"\n",
    "new = \" singh\"\n",
    "mid = len(str) // 2+1\n",
    "result = str[:mid] + new + str[mid:]\n",
    "\n",
    "print(result)\n"
   ]
  }
 ],
 "metadata": {
  "kernelspec": {
   "display_name": "Python 3 (ipykernel)",
   "language": "python",
   "name": "python3"
  },
  "language_info": {
   "codemirror_mode": {
    "name": "ipython",
    "version": 3
   },
   "file_extension": ".py",
   "mimetype": "text/x-python",
   "name": "python",
   "nbconvert_exporter": "python",
   "pygments_lexer": "ipython3",
   "version": "3.10.8"
  }
 },
 "nbformat": 4,
 "nbformat_minor": 5
}
